{
 "cells": [
  {
   "cell_type": "code",
   "id": "initial_id",
   "metadata": {
    "collapsed": true,
    "ExecuteTime": {
     "end_time": "2025-05-15T12:24:49.678553Z",
     "start_time": "2025-05-15T12:24:49.636580Z"
    }
   },
   "source": [
    "import pandas as pd\n",
    "\n",
    "data = pd.read_csv('aow_v1.csv', encoding='latin1')\n",
    "\n",
    "\n",
    "data = data.drop(data.columns[0:2], axis=1)\n",
    "data = data.drop(data.columns[7:10], axis=1)\n",
    "data = data.drop(data.columns[8:14], axis=1)\n",
    "data = data.drop(data.columns[9:], axis=1)\n",
    "data.head()"
   ],
   "outputs": [
    {
     "data": {
      "text/plain": [
       "   ccode scode        country  year         un_region un_continent  reg_id  \\\n",
       "0      2   USA  United States  1950  Northern America     Americas   201.0   \n",
       "1      2   USA  United States  1951  Northern America     Americas   201.0   \n",
       "2      2   USA  United States  1952  Northern America     Americas   201.0   \n",
       "3      2   USA  United States  1953  Northern America     Americas   201.0   \n",
       "4      2   USA  United States  1954  Northern America     Americas   201.0   \n",
       "\n",
       "   regime_nr  change  \n",
       "0  Democracy     0.0  \n",
       "1  Democracy     0.0  \n",
       "2  Democracy     0.0  \n",
       "3  Democracy     0.0  \n",
       "4  Democracy     0.0  "
      ],
      "text/html": [
       "<div>\n",
       "<style scoped>\n",
       "    .dataframe tbody tr th:only-of-type {\n",
       "        vertical-align: middle;\n",
       "    }\n",
       "\n",
       "    .dataframe tbody tr th {\n",
       "        vertical-align: top;\n",
       "    }\n",
       "\n",
       "    .dataframe thead th {\n",
       "        text-align: right;\n",
       "    }\n",
       "</style>\n",
       "<table border=\"1\" class=\"dataframe\">\n",
       "  <thead>\n",
       "    <tr style=\"text-align: right;\">\n",
       "      <th></th>\n",
       "      <th>ccode</th>\n",
       "      <th>scode</th>\n",
       "      <th>country</th>\n",
       "      <th>year</th>\n",
       "      <th>un_region</th>\n",
       "      <th>un_continent</th>\n",
       "      <th>reg_id</th>\n",
       "      <th>regime_nr</th>\n",
       "      <th>change</th>\n",
       "    </tr>\n",
       "  </thead>\n",
       "  <tbody>\n",
       "    <tr>\n",
       "      <th>0</th>\n",
       "      <td>2</td>\n",
       "      <td>USA</td>\n",
       "      <td>United States</td>\n",
       "      <td>1950</td>\n",
       "      <td>Northern America</td>\n",
       "      <td>Americas</td>\n",
       "      <td>201.0</td>\n",
       "      <td>Democracy</td>\n",
       "      <td>0.0</td>\n",
       "    </tr>\n",
       "    <tr>\n",
       "      <th>1</th>\n",
       "      <td>2</td>\n",
       "      <td>USA</td>\n",
       "      <td>United States</td>\n",
       "      <td>1951</td>\n",
       "      <td>Northern America</td>\n",
       "      <td>Americas</td>\n",
       "      <td>201.0</td>\n",
       "      <td>Democracy</td>\n",
       "      <td>0.0</td>\n",
       "    </tr>\n",
       "    <tr>\n",
       "      <th>2</th>\n",
       "      <td>2</td>\n",
       "      <td>USA</td>\n",
       "      <td>United States</td>\n",
       "      <td>1952</td>\n",
       "      <td>Northern America</td>\n",
       "      <td>Americas</td>\n",
       "      <td>201.0</td>\n",
       "      <td>Democracy</td>\n",
       "      <td>0.0</td>\n",
       "    </tr>\n",
       "    <tr>\n",
       "      <th>3</th>\n",
       "      <td>2</td>\n",
       "      <td>USA</td>\n",
       "      <td>United States</td>\n",
       "      <td>1953</td>\n",
       "      <td>Northern America</td>\n",
       "      <td>Americas</td>\n",
       "      <td>201.0</td>\n",
       "      <td>Democracy</td>\n",
       "      <td>0.0</td>\n",
       "    </tr>\n",
       "    <tr>\n",
       "      <th>4</th>\n",
       "      <td>2</td>\n",
       "      <td>USA</td>\n",
       "      <td>United States</td>\n",
       "      <td>1954</td>\n",
       "      <td>Northern America</td>\n",
       "      <td>Americas</td>\n",
       "      <td>201.0</td>\n",
       "      <td>Democracy</td>\n",
       "      <td>0.0</td>\n",
       "    </tr>\n",
       "  </tbody>\n",
       "</table>\n",
       "</div>"
      ]
     },
     "execution_count": 17,
     "metadata": {},
     "output_type": "execute_result"
    }
   ],
   "execution_count": 17
  },
  {
   "metadata": {
    "ExecuteTime": {
     "end_time": "2025-05-15T12:25:52.358785Z",
     "start_time": "2025-05-15T12:25:52.327786Z"
    }
   },
   "cell_type": "code",
   "source": "data.to_csv('aow_v1_cleaned.csv', index=False)",
   "id": "4a48ef267a466c50",
   "outputs": [],
   "execution_count": 18
  }
 ],
 "metadata": {
  "kernelspec": {
   "display_name": "Python 3",
   "language": "python",
   "name": "python3"
  },
  "language_info": {
   "codemirror_mode": {
    "name": "ipython",
    "version": 2
   },
   "file_extension": ".py",
   "mimetype": "text/x-python",
   "name": "python",
   "nbconvert_exporter": "python",
   "pygments_lexer": "ipython2",
   "version": "2.7.6"
  }
 },
 "nbformat": 4,
 "nbformat_minor": 5
}
