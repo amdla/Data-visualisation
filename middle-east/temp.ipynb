{
 "cells": [
  {
   "metadata": {
    "ExecuteTime": {
     "end_time": "2025-03-25T19:54:06.261440Z",
     "start_time": "2025-03-25T19:54:00.654845Z"
    }
   },
   "cell_type": "code",
   "source": [
    "import pandas as pd\n",
    "\n",
    "file = \"MiddleEast_2015-2024_Nov01.csv\"\n",
    "\n",
    "df = pd.read_csv(file)['notes']\n",
    "df\n"
   ],
   "id": "b92bce06c26e6183",
   "outputs": [
    {
     "data": {
      "text/plain": [
       "0         Land seizure: On 1 November 2024, Israeli sett...\n",
       "1         On 1 November 2024, protesters held a large Ho...\n",
       "2         On 1 November 2024, protesters held a large Ho...\n",
       "3         On 1 November 2024, protesters held a large Ho...\n",
       "4         On 1 November 2024, protesters held a large Ho...\n",
       "                                ...                        \n",
       "476224    Three soldiers were reportedly injured in an I...\n",
       "476225    On 1 January 2015, Islah-affiliated tribesmen ...\n",
       "476226    On 1 January 2015, Islah-affiliated tribesmen ...\n",
       "476227    Houthi forces clashed with armed tribesmen bac...\n",
       "476228    Violent clashes erupted between the Houthis an...\n",
       "Name: notes, Length: 476229, dtype: object"
      ]
     },
     "execution_count": 1,
     "metadata": {},
     "output_type": "execute_result"
    }
   ],
   "execution_count": 1
  },
  {
   "metadata": {},
   "cell_type": "code",
   "outputs": [],
   "execution_count": null,
   "source": "",
   "id": "87c52e5c48689107"
  }
 ],
 "metadata": {
  "kernelspec": {
   "display_name": "Python 3",
   "language": "python",
   "name": "python3"
  },
  "language_info": {
   "codemirror_mode": {
    "name": "ipython",
    "version": 2
   },
   "file_extension": ".py",
   "mimetype": "text/x-python",
   "name": "python",
   "nbconvert_exporter": "python",
   "pygments_lexer": "ipython2",
   "version": "2.7.6"
  }
 },
 "nbformat": 4,
 "nbformat_minor": 5
}
