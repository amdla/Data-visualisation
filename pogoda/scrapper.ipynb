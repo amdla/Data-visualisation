{
 "cells": [
  {
   "metadata": {},
   "cell_type": "markdown",
   "source": [
    "### Wizualizacja danych - projekt\n",
    "### Scrapper danych pogodowych ze strony `timeanddate.com`\n",
    "##### Paweł Kapela, Patryk Sajkowski, Maciej Karabin\n",
    "##### grupa 3. (środa 16:15-19:00)"
   ],
   "id": "d3485e412a921bd6"
  },
  {
   "metadata": {},
   "cell_type": "markdown",
   "source": [
    "### Wykorzystane pakiety\n",
    "Potrzebny będzie program `geckodriver`, będący wersją Firefoxa, którą da się sterować np. biblioteką Selenium."
   ],
   "id": "fd40b035caa66a10"
  },
  {
   "metadata": {
    "ExecuteTime": {
     "end_time": "2025-04-23T16:16:19.819478Z",
     "start_time": "2025-04-23T16:16:19.749535Z"
    }
   },
   "cell_type": "code",
   "source": [
    "# Python\n",
    "import locale\n",
    "import calendar\n",
    "from time import sleep\n",
    "from datetime import datetime\n",
    "\n",
    "# Sterownik przeglądarki\n",
    "from selenium import webdriver\n",
    "from selenium.webdriver.firefox.options import Options\n",
    "\n",
    "# Selektory\n",
    "from selenium.webdriver.common.by import By\n",
    "\n",
    "# Elementy\n",
    "from selenium.webdriver.support.select import Select\n",
    "\n",
    "locale.setlocale(locale.LC_TIME, \"en_US.UTF-8\")"
   ],
   "id": "6330c1aaa8024880",
   "outputs": [
    {
     "data": {
      "text/plain": [
       "'en_US.UTF-8'"
      ]
     },
     "execution_count": 1,
     "metadata": {},
     "output_type": "execute_result"
    }
   ],
   "execution_count": 1
  },
  {
   "metadata": {},
   "cell_type": "markdown",
   "source": [
    "### Stałe konfigurujące proces zgrywania danych\n",
    "Może zajść potrzeba dostosowania wartości `START_MONTH` i `START_DAY`, jeśli ich język na stronie będzie inny niż polski. Zmienna `END_MONTH` przydaje się przy ponawianiu zgrywania danych w przypadku wystąpienia błędu (nie pobiera się ponownie tych samych danych)."
   ],
   "id": "af22ffc1f7d0cfe5"
  },
  {
   "metadata": {
    "ExecuteTime": {
     "end_time": "2025-04-23T16:16:19.941185Z",
     "start_time": "2025-04-23T16:16:19.935276Z"
    }
   },
   "cell_type": "code",
   "source": [
    "# LOCATION = \"brazil/curitiba\"\n",
    "#LOCATION = \"colombia/medellin\"\n",
    "# START_MONTH = \"September 2009\"\n",
    "# START_DAY = \"8 September 2009\"\n",
    "\n",
    "LOCATION = \"brazil/natal\"\n",
    "START_MONTH = \"March 2010\"\n",
    "START_DAY = \"9 March 2010\"\n",
    "END_MONTH = \"April 2025\"\n",
    "\n",
    "SOURCE_ADDRESS = f\"https://www.timeanddate.com/weather/{LOCATION}/historic\"\n",
    "\n",
    "\n",
    "COOKIES_MORE_OPTIONS_BUTTON_ID = \"more-options-btn\"\n",
    "COOKIES_REJECT_ALL_BUTTON_ID = \"reject-all-btn\"\n",
    "COOKIES_SAVE_AND_EXIT_BUTTON_SELECTOR = \".qc-cmp2-buttons-desktop > button:nth-child(1)\" # istnieje duplikat ID, dlatego selektor\n",
    "\n",
    "MONTH_SELECT_ID = \"month\"\n",
    "DAY_SELECT_ID = \"wt-his-select\""
   ],
   "id": "dbb56f9bdd8038dd",
   "outputs": [],
   "execution_count": 2
  },
  {
   "metadata": {},
   "cell_type": "markdown",
   "source": "### Konfiguracja przeglądarki",
   "id": "86c8883365f61822"
  },
  {
   "metadata": {
    "ExecuteTime": {
     "end_time": "2025-04-23T16:16:22.848082Z",
     "start_time": "2025-04-23T16:16:20.051440Z"
    }
   },
   "cell_type": "code",
   "source": [
    "options = Options()\n",
    "options.headless = True\n",
    "options.set_preference(\"intl.accept_languages\", \"en\")\n",
    "\n",
    "driver = webdriver.Firefox(options=options)"
   ],
   "id": "5fc87637a2bb5fe4",
   "outputs": [],
   "execution_count": 3
  },
  {
   "metadata": {},
   "cell_type": "markdown",
   "source": [
    "### Otworzenie strony, nawigacja po niej i zczytywanie danych\n",
    "##### Otwarcie i oczekiwanie na wczytanie"
   ],
   "id": "5aa2f81dfb3adcff"
  },
  {
   "metadata": {
    "ExecuteTime": {
     "end_time": "2025-04-23T16:16:23.899871Z",
     "start_time": "2025-04-23T16:16:22.856971Z"
    }
   },
   "cell_type": "code",
   "source": [
    "driver.get(SOURCE_ADDRESS)\n",
    "driver.implicitly_wait(5)"
   ],
   "id": "e0e74395b3c58b50",
   "outputs": [],
   "execution_count": 4
  },
  {
   "metadata": {},
   "cell_type": "markdown",
   "source": "##### Odrzucenie ciasteczek",
   "id": "6ecef027a4ddfc12"
  },
  {
   "metadata": {
    "ExecuteTime": {
     "end_time": "2025-04-23T16:16:26.538202Z",
     "start_time": "2025-04-23T16:16:23.914740Z"
    }
   },
   "cell_type": "code",
   "source": [
    "sleep(0.5)\n",
    "driver.find_element(By.ID, COOKIES_MORE_OPTIONS_BUTTON_ID).click()\n",
    "\n",
    "sleep(1)\n",
    "driver.find_element(By.ID, COOKIES_REJECT_ALL_BUTTON_ID).click()\n",
    "\n",
    "sleep(0.1)\n",
    "driver.find_element(By.CSS_SELECTOR, COOKIES_SAVE_AND_EXIT_BUTTON_SELECTOR).click()"
   ],
   "id": "ecb607ef82047215",
   "outputs": [],
   "execution_count": 5
  },
  {
   "metadata": {},
   "cell_type": "markdown",
   "source": "##### Wczytanie dostępnych opcji w polu wyboru miesiąca i przefiltrowanie ich przez `START_MONTH`",
   "id": "c5676af179a28005"
  },
  {
   "metadata": {
    "ExecuteTime": {
     "end_time": "2025-04-23T16:16:27.910825Z",
     "start_time": "2025-04-23T16:16:26.547536Z"
    }
   },
   "cell_type": "code",
   "source": [
    "month_select = Select(driver.find_element(By.NAME, MONTH_SELECT_ID))\n",
    "month_options = [option.text for option in month_select.options]\n",
    "\n",
    "if \"Past 2 Weeks\" in month_options:\n",
    "    month_options.remove(\"Past 2 Weeks\")\n",
    "\n",
    "start_date = datetime.strptime(START_MONTH, \"%B %Y\")\n",
    "month_options = [option for option in month_options if datetime.strptime(option, \"%B %Y\") >= start_date]"
   ],
   "id": "eca7349298eae0a7",
   "outputs": [],
   "execution_count": 6
  },
  {
   "metadata": {},
   "cell_type": "markdown",
   "source": "##### Iteracja przez miesiące, ich dni, znajdowanie min. i max. temperatur oraz zapis do pliku CSV na bieżąco",
   "id": "c19750256469f43d"
  },
  {
   "metadata": {
    "ExecuteTime": {
     "end_time": "2025-04-23T16:16:51.080657Z",
     "start_time": "2025-04-23T16:16:27.925913Z"
    }
   },
   "cell_type": "code",
   "source": [
    "with open(f\"{LOCATION.replace(\"/\", \"_\")}.csv\", \"w\") as out:\n",
    "    out.write(\"date;min_temp;max_temp\\n\")\n",
    "\n",
    "    for month in month_options:\n",
    "      month_select = Select(driver.find_element(By.NAME, MONTH_SELECT_ID))\n",
    "      month_select.select_by_visible_text(month)\n",
    "\n",
    "      sleep(0.1)\n",
    "\n",
    "      day_select = Select(driver.find_element(By.ID, DAY_SELECT_ID))\n",
    "      day_options = [option.text for option in day_select.options]\n",
    "\n",
    "      if month == START_MONTH or month == END_MONTH:\n",
    "          year, month_num = datetime.strptime(month, \"%B %Y\").year, datetime.strptime(month, \"%B %Y\").month\n",
    "          last_day = calendar.monthrange(year, month_num)[1]\n",
    "\n",
    "          start_date_str = START_DAY if month == START_MONTH else \"1 \" + month\n",
    "          end_date_str = str(last_day) + \" \" + month\n",
    "\n",
    "          start_date = datetime.strptime(start_date_str, \"%d %B %Y\")\n",
    "          end_date = datetime.strptime(end_date_str, \"%d %B %Y\")\n",
    "\n",
    "          day_options = [option for option in day_options if start_date <= datetime.strptime(option, \"%d %B %Y\") <= end_date]\n",
    "\n",
    "      for day in day_options:\n",
    "          day_select.select_by_visible_text(day)\n",
    "\n",
    "          sleep(0.5)\n",
    "\n",
    "          temperatures = []\n",
    "          temperature_cells = driver.find_elements(By.CSS_SELECTOR, \"#wt-his > tbody:nth-child(2) > tr > td:nth-child(3)\")\n",
    "\n",
    "          for cell in temperature_cells:\n",
    "            n = cell.text\n",
    "\n",
    "            if n != \"N/A\":\n",
    "              temperatures.append(int(n.split(\" \")[0]))\n",
    "\n",
    "          if len(temperatures) == 0:\n",
    "            sleep(0.05)\n",
    "            continue\n",
    "\n",
    "          date = datetime.strptime(day, \"%d %B %Y\").strftime(\"%d.%m.%Y\")\n",
    "          min_temp = min(temperatures)\n",
    "          max_temp = max(temperatures)\n",
    "\n",
    "          out.write(f\"{date};{min_temp};{max_temp}\\n\")\n",
    "\n",
    "          sleep(0.05)"
   ],
   "id": "69836d2fc91a39a7",
   "outputs": [
    {
     "ename": "NoSuchWindowException",
     "evalue": "Message: Browsing context has been discarded\nStacktrace:\nRemoteError@chrome://remote/content/shared/RemoteError.sys.mjs:8:8\nWebDriverError@chrome://remote/content/shared/webdriver/Errors.sys.mjs:199:5\nNoSuchWindowError@chrome://remote/content/shared/webdriver/Errors.sys.mjs:747:5\nassert.that/<@chrome://remote/content/shared/webdriver/Assert.sys.mjs:559:13\nassert.open@chrome://remote/content/shared/webdriver/Assert.sys.mjs:147:4\nGeckoDriver.prototype.findElements@chrome://remote/content/marionette/driver.sys.mjs:1822:15\ndespatch@chrome://remote/content/marionette/server.sys.mjs:318:40\nexecute@chrome://remote/content/marionette/server.sys.mjs:289:16\nonPacket/<@chrome://remote/content/marionette/server.sys.mjs:262:20\nonPacket@chrome://remote/content/marionette/server.sys.mjs:263:9\n_onJSONObjectReady/<@chrome://remote/content/marionette/transport.sys.mjs:494:20\n",
     "output_type": "error",
     "traceback": [
      "\u001B[31m---------------------------------------------------------------------------\u001B[39m",
      "\u001B[31mNoSuchWindowException\u001B[39m                     Traceback (most recent call last)",
      "\u001B[36mCell\u001B[39m\u001B[36m \u001B[39m\u001B[32mIn[7]\u001B[39m\u001B[32m, line 31\u001B[39m\n\u001B[32m     28\u001B[39m sleep(\u001B[32m0.5\u001B[39m)\n\u001B[32m     30\u001B[39m temperatures = []\n\u001B[32m---> \u001B[39m\u001B[32m31\u001B[39m temperature_cells = \u001B[43mdriver\u001B[49m\u001B[43m.\u001B[49m\u001B[43mfind_elements\u001B[49m\u001B[43m(\u001B[49m\u001B[43mBy\u001B[49m\u001B[43m.\u001B[49m\u001B[43mCSS_SELECTOR\u001B[49m\u001B[43m,\u001B[49m\u001B[43m \u001B[49m\u001B[33;43m\"\u001B[39;49m\u001B[33;43m#wt-his > tbody:nth-child(2) > tr > td:nth-child(3)\u001B[39;49m\u001B[33;43m\"\u001B[39;49m\u001B[43m)\u001B[49m\n\u001B[32m     33\u001B[39m \u001B[38;5;28;01mfor\u001B[39;00m cell \u001B[38;5;129;01min\u001B[39;00m temperature_cells:\n\u001B[32m     34\u001B[39m   n = cell.text\n",
      "\u001B[36mFile \u001B[39m\u001B[32m~/PycharmProjects/wd-weather-scrap/.venv/lib/python3.13/site-packages/selenium/webdriver/remote/webdriver.py:936\u001B[39m, in \u001B[36mWebDriver.find_elements\u001B[39m\u001B[34m(self, by, value)\u001B[39m\n\u001B[32m    932\u001B[39m     \u001B[38;5;28;01mreturn\u001B[39;00m \u001B[38;5;28mself\u001B[39m.execute_script(find_element_js, by.to_dict())\n\u001B[32m    934\u001B[39m \u001B[38;5;66;03m# Return empty list if driver returns null\u001B[39;00m\n\u001B[32m    935\u001B[39m \u001B[38;5;66;03m# See https://github.com/SeleniumHQ/selenium/issues/4555\u001B[39;00m\n\u001B[32m--> \u001B[39m\u001B[32m936\u001B[39m \u001B[38;5;28;01mreturn\u001B[39;00m \u001B[38;5;28;43mself\u001B[39;49m\u001B[43m.\u001B[49m\u001B[43mexecute\u001B[49m\u001B[43m(\u001B[49m\u001B[43mCommand\u001B[49m\u001B[43m.\u001B[49m\u001B[43mFIND_ELEMENTS\u001B[49m\u001B[43m,\u001B[49m\u001B[43m \u001B[49m\u001B[43m{\u001B[49m\u001B[33;43m\"\u001B[39;49m\u001B[33;43musing\u001B[39;49m\u001B[33;43m\"\u001B[39;49m\u001B[43m:\u001B[49m\u001B[43m \u001B[49m\u001B[43mby\u001B[49m\u001B[43m,\u001B[49m\u001B[43m \u001B[49m\u001B[33;43m\"\u001B[39;49m\u001B[33;43mvalue\u001B[39;49m\u001B[33;43m\"\u001B[39;49m\u001B[43m:\u001B[49m\u001B[43m \u001B[49m\u001B[43mvalue\u001B[49m\u001B[43m}\u001B[49m\u001B[43m)\u001B[49m[\u001B[33m\"\u001B[39m\u001B[33mvalue\u001B[39m\u001B[33m\"\u001B[39m] \u001B[38;5;129;01mor\u001B[39;00m []\n",
      "\u001B[36mFile \u001B[39m\u001B[32m~/PycharmProjects/wd-weather-scrap/.venv/lib/python3.13/site-packages/selenium/webdriver/remote/webdriver.py:429\u001B[39m, in \u001B[36mWebDriver.execute\u001B[39m\u001B[34m(self, driver_command, params)\u001B[39m\n\u001B[32m    427\u001B[39m response = \u001B[38;5;28mself\u001B[39m.command_executor.execute(driver_command, params)\n\u001B[32m    428\u001B[39m \u001B[38;5;28;01mif\u001B[39;00m response:\n\u001B[32m--> \u001B[39m\u001B[32m429\u001B[39m     \u001B[38;5;28;43mself\u001B[39;49m\u001B[43m.\u001B[49m\u001B[43merror_handler\u001B[49m\u001B[43m.\u001B[49m\u001B[43mcheck_response\u001B[49m\u001B[43m(\u001B[49m\u001B[43mresponse\u001B[49m\u001B[43m)\u001B[49m\n\u001B[32m    430\u001B[39m     response[\u001B[33m\"\u001B[39m\u001B[33mvalue\u001B[39m\u001B[33m\"\u001B[39m] = \u001B[38;5;28mself\u001B[39m._unwrap_value(response.get(\u001B[33m\"\u001B[39m\u001B[33mvalue\u001B[39m\u001B[33m\"\u001B[39m, \u001B[38;5;28;01mNone\u001B[39;00m))\n\u001B[32m    431\u001B[39m     \u001B[38;5;28;01mreturn\u001B[39;00m response\n",
      "\u001B[36mFile \u001B[39m\u001B[32m~/PycharmProjects/wd-weather-scrap/.venv/lib/python3.13/site-packages/selenium/webdriver/remote/errorhandler.py:232\u001B[39m, in \u001B[36mErrorHandler.check_response\u001B[39m\u001B[34m(self, response)\u001B[39m\n\u001B[32m    230\u001B[39m         alert_text = value[\u001B[33m\"\u001B[39m\u001B[33malert\u001B[39m\u001B[33m\"\u001B[39m].get(\u001B[33m\"\u001B[39m\u001B[33mtext\u001B[39m\u001B[33m\"\u001B[39m)\n\u001B[32m    231\u001B[39m     \u001B[38;5;28;01mraise\u001B[39;00m exception_class(message, screen, stacktrace, alert_text)  \u001B[38;5;66;03m# type: ignore[call-arg]  # mypy is not smart enough here\u001B[39;00m\n\u001B[32m--> \u001B[39m\u001B[32m232\u001B[39m \u001B[38;5;28;01mraise\u001B[39;00m exception_class(message, screen, stacktrace)\n",
      "\u001B[31mNoSuchWindowException\u001B[39m: Message: Browsing context has been discarded\nStacktrace:\nRemoteError@chrome://remote/content/shared/RemoteError.sys.mjs:8:8\nWebDriverError@chrome://remote/content/shared/webdriver/Errors.sys.mjs:199:5\nNoSuchWindowError@chrome://remote/content/shared/webdriver/Errors.sys.mjs:747:5\nassert.that/<@chrome://remote/content/shared/webdriver/Assert.sys.mjs:559:13\nassert.open@chrome://remote/content/shared/webdriver/Assert.sys.mjs:147:4\nGeckoDriver.prototype.findElements@chrome://remote/content/marionette/driver.sys.mjs:1822:15\ndespatch@chrome://remote/content/marionette/server.sys.mjs:318:40\nexecute@chrome://remote/content/marionette/server.sys.mjs:289:16\nonPacket/<@chrome://remote/content/marionette/server.sys.mjs:262:20\nonPacket@chrome://remote/content/marionette/server.sys.mjs:263:9\n_onJSONObjectReady/<@chrome://remote/content/marionette/transport.sys.mjs:494:20\n"
     ]
    }
   ],
   "execution_count": 7
  },
  {
   "metadata": {},
   "cell_type": "markdown",
   "source": "### Zamknięcie przeglądarki",
   "id": "5a3c88047fc3b8da"
  },
  {
   "metadata": {
    "ExecuteTime": {
     "end_time": "2025-04-23T16:16:51.135731605Z",
     "start_time": "2025-04-16T12:09:36.255690Z"
    }
   },
   "cell_type": "code",
   "source": "driver.quit()",
   "id": "c72980a2db85a3b3",
   "outputs": [],
   "execution_count": 15
  }
 ],
 "metadata": {
  "kernelspec": {
   "display_name": "Python 3",
   "language": "python",
   "name": "python3"
  },
  "language_info": {
   "codemirror_mode": {
    "name": "ipython",
    "version": 2
   },
   "file_extension": ".py",
   "mimetype": "text/x-python",
   "name": "python",
   "nbconvert_exporter": "python",
   "pygments_lexer": "ipython2",
   "version": "2.7.6"
  }
 },
 "nbformat": 4,
 "nbformat_minor": 5
}
